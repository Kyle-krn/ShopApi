{
 "cells": [
  {
   "cell_type": "code",
   "execution_count": 124,
   "metadata": {},
   "outputs": [],
   "source": [
    "from tortoise.contrib.pydantic import pydantic_model_creator, PydanticModel, creator\n",
    "from typing import Optional\n",
    "from typing import TypeVar\n",
    "\n",
    "from pydantic import BaseModel, create_model, validator\n",
    "\n",
    "\n",
    "class CreateProduct(BaseModel):\n",
    "    name: str\n",
    "    price: float\n",
    "    discount: Optional[float]\n",
    "    category_id: int\n",
    "    attributes: dict\n",
    "\n",
    "\n",
    "def validate_json_attr(attr_category, attr_product):\n",
    "    tuple_attr_category = tuple([c for c in attr_category]) if attr_category else None\n",
    "    \n",
    "    tuple_attr_product = tuple([c for c in attr_product]) if attr_product else None\n",
    "    if tuple_attr_product != tuple_attr_category:\n",
    "        raise IndexError(\"Атрибуты категории и товара не совпадают\")\n",
    "    \n",
    "    if attr_category:\n",
    "        for k,v in attr_category.items():\n",
    "            if type(v) != type(attr_product[k]):\n",
    "                raise TypeError(f\"Атрибут {k} ожидает тип {type(v)}\")\n",
    "                raise TypeError(f\"{attr_product[k]} != {type(v)}\")\n",
    "\n",
    "    # @staticmethod\n",
    "    # def validate_json_attr(attr_category, attr_product):\n",
    "    #     tuple_attr_category = tuple([c for c in attr_category])\n",
    "    #     # print(tuple_attr_product)\n",
    "    #     tuple_attr_product = tuple([c for c in attr_product])\n",
    "    #     if tuple_attr_product != tuple_attr_category:\n",
    "    #         raise IndexError()\n",
    "        \n",
    "    #     for k,v in attr_category.items():\n",
    "    #         if type(v) != type(attr_product[k]):\n",
    "    #             raise TypeError\n",
    "\n",
    "\n",
    "    # def __init__(self, attr_category, **kwargs):\n",
    "    #     self.validate_json_attr(attr_category, kwargs[\"attributes\"])\n",
    "    #     super().__init__(**kwargs)\n",
    "\n",
    "    # def validate_json_attr(attr_category, attr_product):\n",
    "    #     tuple_attr_category = tuple([c for c in attr_category])\n",
    "    #     # print(tuple_attr_product)\n",
    "    #     tuple_attr_product = tuple([c for c in attr_product])\n",
    "    #     if tuple_attr_product != tuple_attr_category:\n",
    "    #         raise IndexError()\n",
    "        \n",
    "    #     for k,v in attr_category.items():\n",
    "    #         if type(v) != type(attr_product[k]):\n",
    "    #             raise TypeError\n"
   ]
  },
  {
   "cell_type": "code",
   "execution_count": 128,
   "metadata": {},
   "outputs": [
    {
     "name": "stdout",
     "output_type": "stream",
     "text": [
      "{'name': 'nam e', 'price': 100.0, 'discount': None, 'category_id': 1, 'attributes': {'color': 'white', 'digit': 10, 'multi': True}}\n"
     ]
    }
   ],
   "source": [
    "attr_category = [\n",
    "    {\"value\": \"white\", \"prefix\": \"\", \"name\": \"color\"},\n",
    "    {\"value\": 5, \"prefix\": \"шт.\", \"name\": \"digit\"},\n",
    "    {\"value\": True, \"prefix\": \"\" , \"name\": \"klapan\"}\n",
    "]\n",
    "\n",
    "\n",
    "data = {\n",
    "    \"name\": \"nam e\",\n",
    "    \"price\": 100.0,\n",
    "    \"category_id\": 1,\n",
    "    \"attributes\": {\n",
    "        \"color\": \"white\",\n",
    "        \"digit\": 10,\n",
    "        \"multi\": True\n",
    "        }\n",
    "}\n",
    "\n",
    "\n"
   ]
  },
  {
   "cell_type": "code",
   "execution_count": null,
   "metadata": {},
   "outputs": [],
   "source": []
  }
 ],
 "metadata": {
  "interpreter": {
   "hash": "c30238342b5b0ea7731e6e30f064d4042ace0f84d1bfcd9190f67d05f70079a7"
  },
  "kernelspec": {
   "display_name": "Python 3.8.10 ('venv': venv)",
   "language": "python",
   "name": "python3"
  },
  "language_info": {
   "codemirror_mode": {
    "name": "ipython",
    "version": 3
   },
   "file_extension": ".py",
   "mimetype": "text/x-python",
   "name": "python",
   "nbconvert_exporter": "python",
   "pygments_lexer": "ipython3",
   "version": "3.8.10"
  },
  "orig_nbformat": 4
 },
 "nbformat": 4,
 "nbformat_minor": 2
}
